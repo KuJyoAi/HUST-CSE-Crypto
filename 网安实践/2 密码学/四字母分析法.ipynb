{
 "cells": [
  {
   "attachments": {
    "4a0d59cb-d87b-486c-828e-00ce8cee8ac1.png": {
     "image/png": "[encoded data removed]"
    }
   },
   "cell_type": "markdown",
   "id": "d490cda9-2809-4a7a-812c-0706b6b611fd",
   "metadata": {},
   "source": [
    "# 四字母分析法\n",
    "### 四字母分析法是一种$\\color{red}{唯密文、自动化、通用}$的破译方法\n",
    "### 基本原理是通过$\\color{red}{局部密钥的变动}$，使得解密的明文更像“自然语言”，越像“自然语言”，密钥正确的可能性越大\n",
    "### 什么样的明文更像“自然语言”?\n",
    "事先统计四字母组合出现的频率：统计托尔斯泰的著作《战争与和平》中四元组的出现概率，去除书中的所有空格和标点符号后，总计约有2,500,000个四元组，经进一步分类整理，可以得到各个四元组的出现次数和概率对数\n",
    "![图片.png](attachment:4a0d59cb-d87b-486c-828e-00ce8cee8ac1.png)\n"
   ]
  },
  {
   "cell_type": "code",
   "execution_count": 72,
   "id": "80b1dde1-308c-4231-ab4e-94abac7361e1",
   "metadata": {},
   "outputs": [
    {
     "data": {
      "text/plain": [
       "(-6.397940008672037, -3.3440935818197848, 3.97935193865963e-10)"
      ]
     },
     "execution_count": 72,
     "metadata": {},
     "output_type": "execute_result"
    }
   ],
   "source": [
    "RDF(log(1/2500000,10)),RDF(log(1132/2500000,10)),10^(-9.40018764963)"
   ]
  },
  {
   "cell_type": "markdown",
   "id": "25d0a4b6-e7c3-49b9-a1c7-8c759139c06e",
   "metadata": {},
   "source": [
    "#### “自然语言”中出现频率高的四字母组合，贡献的log(P)更大。\n",
    "自然想到将明文拆分成四字母组合，计算log(P)的和，我们称为$\\color{red}{计分score}$,在同样长度的明文情形下，score越大，明文越接近“自然语言”\n",
    "## 例如：\n",
    "### ATTACK=ATTA+TTAC+TACK\n",
    "### score(ATTACK)=log(P(ATTA))+log(P(TTAC))+log(P(TACK))\n",
    "### 例（1）以下为一般代换密码的破译示例："
   ]
  },
  {
   "cell_type": "code",
   "execution_count": null,
   "id": "be723a6f-295f-478b-a265-b6867bd3b593",
   "metadata": {
    "is_executing": true,
    "ExecuteTime": {
     "start_time": "2023-05-30T11:34:59.934815200Z"
    }
   },
   "outputs": [
    {
     "name": "stdout",
     "output_type": "stream",
     "text": [
      "---------------------------start---------------------------\n",
      "Currrent key: KJAGMEDZLSQCXVNWFITBUOHYPR\n",
      "Iteration total: 1\n",
      "Plaintext:  uodilannydsingatyofpoiednessischmarebettcosilevensoccerinseldsweaksitenlemyrcesitendislacurifgedynigwdverhpoiedthidajechteaveaspoiedthasilaceweregendthimtiljchsteevesnydevenabiskymltyofbittiuringabah -1000.6746628331897\n",
      "Currrent key: KUCEMXDHLYSBAVPQWITGNOJRZF\n",
      "Iteration total: 8\n",
      "Plaintext:  buticannotsingaloudquietnessismyfarewellmusicevensummerinsectsheapsilenceformesilentiscambridgetonightveryquietlyitakemyleaveasquietlyasicameheregentlyiflickmysleevesnotevenawispofcloudwillibringaway -900.592419222168\n"
     ]
    }
   ],
   "source": [
    "import random\n",
    "from ngram_score import ngram_score\n",
    "#参数初始化\n",
    "ciphertext ='UNGLCKVVPGTLVDKBPNEWNLMGVMTTLTAZXKIMJMBBANTLCMOMVTNAAMILVTMCGTHMKQTLBMVCMXPIAMTLBMVGLTCKAUILEDMGPVLDHGOMIZWNLMGBZLGKSMAZBMKOMKTWNLMGBZKTLCKAMHMIMDMVGBZLXBLCSAZTBMMOMTVPGMOMVKJLTQPXCBPNEJLBBLUILVDKJKZ'\n",
    "parentkey = list('ABCDEFGHIJKLMNOPQRSTUVWXYZ')\n",
    "#只是用来声明key是个字典\n",
    "key = {'A':'A'}\n",
    "#读取quadgram statistics\n",
    "fitness = ngram_score('english_quadgrams.txt')\n",
    "parentscore = -99e9\n",
    "maxscore = -99e9\n",
    "\n",
    "print('---------------------------start---------------------------')\n",
    "j=0\n",
    "while 1:\n",
    "    j=j+1\n",
    "    #随机打乱key中的元素\n",
    "    random.shuffle(parentkey)\n",
    "    #将密钥做成字典\n",
    "    #密文:明文\n",
    "    for i in range(len(parentkey)):\n",
    "        key[parentkey[i]] = chr(ord('A')+i)\n",
    "    #用字典一一映射解密\n",
    "    decipher = ciphertext\n",
    "    for i in range(len(decipher)):\n",
    "        decipher = decipher[:i]+key[decipher[i]]+decipher[i+1:]\n",
    "    parentscore = fitness.score(decipher)#计算适应度\n",
    "    #在当前密钥下随机交换两个密钥的元素从而寻找是否有更优的解\n",
    "    count = 0\n",
    "    while count < 2000:\n",
    "        a = random.randint(0,25)\n",
    "        b = random.randint(0,25)\n",
    "        #随机交换父密钥中的两个元素生成子密钥，并用其进行解密\n",
    "        parentkey[a],parentkey[b]= parentkey[b],parentkey[a]\n",
    "        key[parentkey[a]],key[parentkey[b]] = key[parentkey[b]],key[parentkey[a]]\n",
    "        decipher = ciphertext\n",
    "        for i in range(len(decipher)):\n",
    "            decipher = decipher[:i]+key[decipher[i]]+decipher[i+1:]\n",
    "        score = fitness.score(decipher)\n",
    "        #此子密钥代替其对应的父密钥，提高明文适应度\n",
    "        if score > parentscore:\n",
    "            parentscore = score\n",
    "            count=0\n",
    "        else:\n",
    "            #还原\n",
    "            parentkey[a],parentkey[b]=parentkey[b],parentkey[a]\n",
    "            key[parentkey[a]],key[parentkey[b]]=key[parentkey[b]],key[parentkey[a]]\n",
    "            count +=1\n",
    "    #输出该key和明文\n",
    "    if parentscore > maxscore:\n",
    "        maxscore = parentscore\n",
    "        print ('Currrent key: '+''.join(parentkey))\n",
    "        print ('Iteration total:', j)\n",
    "        decipher = ciphertext\n",
    "        for i in range(len(decipher)):\n",
    "            decipher = decipher[:i]+key[decipher[i]]+decipher[i+1:]\n",
    "        print ('Plaintext: ', decipher.lower(),maxscore)\n",
    "        # sys.stdout.flush()\n"
   ]
  },
  {
   "cell_type": "markdown",
   "id": "17b7fa87-f91f-43e3-a147-0854272f349d",
   "metadata": {},
   "source": [
    "### 例（2）以下为维吉尼亚密码的破译示例："
   ]
  },
  {
   "cell_type": "code",
   "execution_count": null,
   "id": "1aaa9400-4448-4155-a615-21d876cc6137",
   "metadata": {},
   "outputs": [],
   "source": [
    "import random\n",
    "from ngram_score import ngram_score\n",
    "#参数初始化\n",
    "ciphertext ='YRAAHYHBIUWGRWBYCHCMHKXKUVRQNFSPWULNRMPQYHBMQDWKLNMBJCKUOEJENVLDYLPWCLDAYOUFQOXFAFVLCRMPVZQQQMNSDLCIPWPCHDLYJWKLPKMZQRQQMTAAVDMLYJQVWYVCOHRUDMUEZCWOPJPVVJSVJEZFYOCMQWWLRETAHFDNHYZSRGVMLAHFWRIJKJVLRSNAWKZSPJXSKHXXFKIJDXHWAOIV'\n",
    "#读取quadgram statistics\n",
    "fitness = ngram_score('english_quadgrams.txt')\n",
    "def sub(c,m):\n",
    "    return chr((ord(c)-ord('A')-m)%26+ord('A'))\n",
    "maxscore = -99e9\n",
    "for k in range (1,8):\n",
    "    print('---------------------------start---------------------------')\n",
    "    print('assume key length=%d'%k);sys.stdout.flush()\n",
    "    parentscore = -99e9\n",
    "    key=list(range(k))\n",
    "    j=0\n",
    "    while j<10*k:\n",
    "        pos=randint(0,k-1)\n",
    "        j+=1\n",
    "        for item in range(26):\n",
    "            temp=key[pos]\n",
    "            key[pos]=item\n",
    "            decipher = ciphertext\n",
    "            for i in range(len(decipher)):\n",
    "                decipher = decipher[:i]+sub(decipher[i],key[i%k])+decipher[i+1:]\n",
    "            score = fitness.score(decipher)\n",
    "            #此子密钥代替其对应的父密钥，提高明文适应度\n",
    "            if score > parentscore:\n",
    "                parentscore = score\n",
    "            else:\n",
    "                #还原\n",
    "                key[pos]=temp\n",
    "    #输出该key和明文\n",
    "    if parentscore > maxscore:\n",
    "        maxscore = parentscore\n",
    "        print ('Currrent key: ',key)\n",
    "        print ('Iteration total:', j)\n",
    "        decipher = ciphertext\n",
    "        for i in range(len(decipher)):\n",
    "            decipher = decipher[:i]+sub(decipher[i],key[i%k])+decipher[i+1:]\n",
    "        print ('Plaintext: ', decipher.lower(),maxscore)\n",
    "        sys.stdout.flush()"
   ]
  },
  {
   "cell_type": "markdown",
   "id": "4242aef5-3deb-49cd-9ec5-0260d94ec384",
   "metadata": {},
   "source": [
    "### 例（3）以下为3阶Hill密码的破译示例："
   ]
  },
  {
   "cell_type": "code",
   "execution_count": null,
   "id": "31ac6a18-2e14-46f1-b47e-e1001a5132a8",
   "metadata": {},
   "outputs": [],
   "source": [
    "import random\n",
    "from ngram_score import ngram_score\n",
    "#参数初始化\n",
    "ciphertext0 ='RYLLAFFSOJJEYVSBYWGDEEKCKUISULIEFVXVZKHBXMVPHMIBQJZSEIXTMNUUIOHPGVFFVYTSUNUWSGLJTVPMXSGWMDJJEZRZIEEBHLTJFDFFXVJOCOJGNQJZVOUGMXHEQBCTVWZBHLGGSTRCSKUGDEIJMWYGJWCFSVVWZJALXZRSVYHAFTDDYJUXNCNBUBZXFFVYTSTGATRPTMWHQCCAMTIZPEMPDZDWRZRZIEEBHLKPINJRSLUTBTSYINEKOJAFOERKILRENTCTFZWHIBDJWSRDOPFYVHFREQYOJAVUCXGLHAIXMIAQZVEOCBTDSAJRWYQIBPZFDQKZGTAOQGXAJCLLIVUZOHMJMYNOHBWGIEFJHIPEMPBGNTCBZXFFVYTSCOWYPPPEMLYYLJKMOMIEFQSNKSHVOHKNRXVJNBUBZXWQEBATQBTVXQCBYPGYHHTTKEXYKJGOSYIKPIPDHZRZIEETMTOAOQQXBSTXCJLUETMTOAOQQXWSRMSRJFWEQWZKHWZFNPVFPFWSSECRDFLETYSWXFIWVUZAGZGBYTTSHIAHFREQYXCJLUEBHLLLYBSWNXFMKUEQLZZUQIWSIHNDOPPEBRYMBGIEFCTKIGBBTOXNFWWBPDHXUAQYPHNVWSSRWWBHZJCGSUYHWMLZJPGYLCJMMBBZDVPHKDCLIQUPXWRWNXIHIAHUCNYMBSHIEFDTZTAOZJLJLZRHHXKOXGLHAIGOTNBHVXQMDWBPZUTGZMMXKWJGSHTWRGRBYARYLBXMJLZZQWHFXDITLRVWDGJTWMHWBVTWSGVSBZJLJLZVPHMPSBYEJLZXKOXGLHAIAUDIEFRKINTCCUEFGPCXSTAOVVLFSOMPSBZXQANLVIEGMTFBFSOSWXFIWPSKKAMTVZWGOHHEZESJGNYERWSRLCJGWYVPHJGSHTWRGRCRAXNCNISJVMJFKWESQDOGRABTXLAAXTMBZXCJYHIADWPWSXXYXJDIXNCNTCZOJXKOTWIDBVGOPWSRLJTYJGZTICXSWSRUPXMLOTMWNWWQGLFIHVBZNLIHFRURQWPEHFKVHZMWRBOKIZWSZLNGCTKKEOTZJYVJUDFFKVWHTLTHENMCTRIVKIKNPNMCTRIAPQNLIPDHXTFUTGQANLVIIWMKNP'\n",
    "#定义mod26运算的代数结构\n",
    "R = Zmod(26)\n",
    "#定义mod26的3*3矩阵类型\n",
    "MR = MatrixSpace(R,3,3)\n",
    "key=MR()\n",
    "ciphertext=ciphertext0[:240]\n",
    "#读取quadgram statistics\n",
    "fitness = ngram_score('english_quadgrams.txt')\n",
    "vcode=[0]*(len(ciphertext0)//3)\n",
    "dic={}\n",
    "#密文转化为3维向量的数组，每一个vcode[i]是一个三维向量\n",
    "for i in range(len(ciphertext0)//3):\n",
    "    vcode[i]=vector([R(ord(ciphertext0[3*i])-ord('A')),R(ord(ciphertext0[3*i+1])-ord('A')),R(ord(ciphertext0[3*i+2])-ord('A'))])\n",
    "\n",
    "#缓存整数和字符之间的对应关系\n",
    "for i in range(26):\n",
    "    dic[R(i)]=chr(ord('A')+i)\n",
    "\n",
    "#利用3*3的解密密钥key解密\n",
    "def hill(ciphertext):\n",
    "    cipher=''\n",
    "    for i in range(len(ciphertext)//3):\n",
    "        v = vcode[i]*key\n",
    "        cipher = cipher+dic[v[0]]+dic[v[1]]+dic[v[2]]\n",
    "    return cipher\n",
    "\n",
    "maxscore = -99e9\n",
    "key=MR()\n",
    "\n",
    "for k in range (15):\n",
    "    print('---------------------------new start %d---------------------------'%k)\n",
    "    sys.stdout.flush()\n",
    "    parentscore = -99e9\n",
    "    pos=k%3\n",
    "    if pos==0:\n",
    "        for i in range(3):\n",
    "            for j in range(3):\n",
    "                key[i,j]=R(randint(0,25))\n",
    "    for item1 in range(26):\n",
    "        for item2 in range(26):\n",
    "            for item3 in range(26):\n",
    "                if gcd([item1,item2,item3,26])!=1:\n",
    "                    continue\n",
    "                temp1,temp2,temp3=key[0,pos],key[1,pos],key[2,pos]\n",
    "                key[0,pos],key[1,pos],key[2,pos]=R(item1),R(item2),R(item3)\n",
    "                #key=MR([[6,23,22],[18,8,17],[11,5,4]])\n",
    "                decipher = hill(ciphertext)\n",
    "                score = fitness.score(decipher)\n",
    "                #此子密钥代替其对应的父密钥，提高明文适应度\n",
    "                if score > parentscore:\n",
    "                    parentscore = score\n",
    "                else:\n",
    "                    #还原\n",
    "                    key[0,pos],key[1,pos],key[2,pos]=temp1,temp2,temp3\n",
    "    #调整可能列的顺序\n",
    "    st=[[(0,1)],[(1,2)],[(0,2)],[(0,1),(0,2)],[(0,2),(0,1)]]\n",
    "    if pos==2:\n",
    "        for s in st:\n",
    "            for t in s:\n",
    "                key.swap_columns(t[0],t[1])\n",
    "            decipher=hill(ciphertext)\n",
    "            score = fitness.score(decipher)\n",
    "            if score > parentscore:\n",
    "                parentscore = score\n",
    "            else:\n",
    "                for t in s[::-1]:\n",
    "                    key.swap_columns(t[0],t[1])\n",
    "    if parentscore > maxscore:\n",
    "        maxscore = parentscore\n",
    "        print ('Currrent key^-1: ') # K=MR([[6,23,22],[18,8,17],[11,5,4]])\n",
    "        print(key)\n",
    "        decipher = hill(ciphertext0)\n",
    "        print ('Plaintext: ', decipher.lower(),maxscore)\n",
    "        sys.stdout.flush()"
   ]
  }
 ],
 "metadata": {
  "kernelspec": {
   "name": "python3",
   "language": "python",
   "display_name": "Python 3 (ipykernel)"
  },
  "language_info": {
   "codemirror_mode": {
    "name": "ipython",
    "version": 3
   },
   "file_extension": ".py",
   "mimetype": "text/x-python",
   "name": "python",
   "nbconvert_exporter": "python",
   "pygments_lexer": "ipython3",
   "version": "3.9.13"
  }
 },
 "nbformat": 4,
 "nbformat_minor": 5
}
