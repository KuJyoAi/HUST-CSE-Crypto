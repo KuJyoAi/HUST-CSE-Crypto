{
 "cells": [
  {
   "cell_type": "markdown",
   "id": "c4768271-84d9-4f9c-b4ad-aeb489c66517",
   "metadata": {
    "tags": []
   },
   "source": [
    "## 古典密码基本操作\n",
    "### 1.代换密码"
   ]
  },
  {
   "cell_type": "code",
   "execution_count": 4,
   "id": "f655d897-19a1-4118-88e2-035414c4624a",
   "metadata": {},
   "outputs": [
    {
     "name": "stdout",
     "output_type": "stream",
     "text": [
      "Itssg Vgksr!\n"
     ]
    }
   ],
   "source": [
    "alphabet = \"ABCDEFGHIJKLMNOPQRSTUVWXYZabcdefghijklmnopqrstuvwxyz\"\n",
    "key = \"QWERTYUIOPASDFGHJKLZXCVBNMqwertyuiopasdfghjklzxcvbnm\"\n",
    "\n",
    "def substitution_encrypt(plain_text):\n",
    "    cipher_text = \"\"\n",
    "    for char in plain_text:\n",
    "        if char in alphabet:\n",
    "            index = alphabet.index(char)\n",
    "            cipher_text += key[index]\n",
    "        else:\n",
    "            cipher_text += char\n",
    "    return cipher_text\n",
    "\n",
    "message = \"Hello World!\"\n",
    "encrypted_message = substitution_encrypt(message)\n",
    "print(encrypted_message)"
   ]
  },
  {
   "cell_type": "markdown",
   "id": "11b49b3d-0244-4e96-8d9d-ef547105a42e",
   "metadata": {},
   "source": [
    "### 2.仿射密码"
   ]
  },
  {
   "cell_type": "code",
   "execution_count": 3,
   "id": "85115614-7c81-45f2-84e8-0dc9629e9f98",
   "metadata": {},
   "outputs": [
    {
     "data": {
      "text/plain": [
       "(23, 20, 'Zinne, gevnl!')"
      ]
     },
     "execution_count": 3,
     "metadata": {},
     "output_type": "execute_result"
    }
   ],
   "source": [
    "import random\n",
    "import string\n",
    "def affine_encrypt(plaintext, a, b):\n",
    "    ciphertext = \"\"\n",
    "    for char in plaintext:\n",
    "        if char in string.ascii_lowercase:\n",
    "            x = (ord(char) - 97)\n",
    "            y = (a * x + b) % 26\n",
    "            ciphertext += chr(y + 97)\n",
    "        elif char in string.ascii_uppercase:\n",
    "            x = (ord(char) - 65)\n",
    "            y = (a * x + b) % 26\n",
    "            ciphertext += chr(y + 65)\n",
    "        else:\n",
    "            ciphertext += char\n",
    "    return ciphertext\n",
    "plaintext = \"Hello, world!\"\n",
    "a = 23\n",
    "b = random.randrange(1, 26)\n",
    "ciphertext = affine_encrypt(plaintext, a, b)\n",
    "a,b,ciphertext"
   ]
  },
  {
   "cell_type": "markdown",
   "id": "95298a69-f0c6-43a7-b8c4-774c120a2771",
   "metadata": {},
   "source": [
    "### 3.维吉尼亚密码"
   ]
  },
  {
   "cell_type": "code",
   "execution_count": 3,
   "id": "addfdec1-3399-4f8a-bf9f-8ad2a505a747",
   "metadata": {},
   "outputs": [
    {
     "data": {
      "text/plain": [
       "'Nszrz, aufzj!'"
      ]
     },
     "execution_count": 3,
     "metadata": {},
     "output_type": "execute_result"
    }
   ],
   "source": [
    "import string\n",
    "plaintext = \"Hello, world!\"\n",
    "Key = \"google\"\n",
    "def add(c,k):\n",
    "    if k in string.ascii_lowercase:\n",
    "        m=ord(k)-ord('a')\n",
    "    elif k in string.ascii_uppercase:\n",
    "        m=ord(k)-ord('A')\n",
    "    if c in string.ascii_lowercase:\n",
    "        return chr((ord(c)-ord('a')+m)%26+ord('a'))\n",
    "    elif c in string.ascii_uppercase:\n",
    "        return chr((ord(c)-ord('A')+m)%26+ord('A'))\n",
    "def Vernam_encryption(plaintext):\n",
    "    ciphertext = \"\"\n",
    "    index=0\n",
    "    for char in plaintext:\n",
    "        if char in string.ascii_letters:\n",
    "            ciphertext+=add(char,Key[index])\n",
    "            index=(index+1)%len(Key)\n",
    "        else:\n",
    "            ciphertext+=char\n",
    "    return ciphertext\n",
    "Vernam_encryption(plaintext)\n",
    "            \n",
    "    \n",
    "    "
   ]
  },
  {
   "cell_type": "markdown",
   "id": "ae34c9a5-1482-45a3-b851-9f5492cb14f6",
   "metadata": {},
   "source": [
    "### 4.Hill密码"
   ]
  },
  {
   "cell_type": "code",
   "execution_count": 11,
   "id": "3f3d5e74-a3d5-4201-a322-834000802d97",
   "metadata": {},
   "outputs": [
    {
     "name": "stdout",
     "output_type": "stream",
     "text": [
      "JYVKSKQPELAYKPV\n",
      "JYVKSKQPELAYKPV\n"
     ]
    }
   ],
   "source": [
    "S = AlphabeticStrings()\n",
    "E = HillCryptosystem(S,3)\n",
    "R = IntegerModRing(26)\n",
    "M = MatrixSpace(R,3,3)\n",
    "A = M([[1,0,1],[0,1,1],[2,2,3]])\n",
    "e = E(A)\n",
    "print(e(S(\"LAMAISONBLANCHE\")))\n",
    "print(E.enciphering(A,S(\"LAMAISONBLANCHE\")))"
   ]
  },
  {
   "cell_type": "code",
   "execution_count": 18,
   "id": "471e79b2-5168-47ab-a55c-b3f4320f75de",
   "metadata": {},
   "outputs": [
    {
     "data": {
      "text/plain": [
       "(\n",
       "                   [25 24  1]\n",
       "                   [24 25  1]\n",
       "'LAMAISONBLANCHE', [ 2  2 25]\n",
       ")"
      ]
     },
     "execution_count": 18,
     "metadata": {},
     "output_type": "execute_result"
    }
   ],
   "source": [
    "ciphertext ='JYVKSKQPELAYKPV'\n",
    "R = Zmod(26)\n",
    "MR = MatrixSpace(R,3,3)\n",
    "key = M([[1,0,1],[0,1,1],[2,2,3]])\n",
    "key = key.inverse()\n",
    "vcode = {}\n",
    "for i in range(len(ciphertext)//3):\n",
    "    vcode[i]=vector([R(ord(ciphertext[3*i])-ord('A')),R(ord(ciphertext[3*i+1])-ord('A')),R(ord(ciphertext[3*i+2])-ord('A'))])\n",
    "z2chr = {}\n",
    "for i in range(26):\n",
    "    z2chr[R(i)]=chr(ord('A')+i)\n",
    "def hill(ciphertext, key):\n",
    "    cipher=''\n",
    "    for i in range(len(ciphertext)//3):\n",
    "        v = vcode[i]*key\n",
    "        cipher = cipher+z2chr[v[0]]+z2chr[v[1]]+z2chr[v[2]]\n",
    "    return cipher\n",
    "hill(ciphertext,key),key"
   ]
  },
  {
   "cell_type": "code",
   "execution_count": null,
   "id": "9732466d-be6f-4b81-b357-bb37cbddfe68",
   "metadata": {},
   "outputs": [],
   "source": []
  }
 ],
 "metadata": {
  "kernelspec": {
   "display_name": "SageMath 9.7",
   "language": "sage",
   "name": "sagemath"
  },
  "language_info": {
   "codemirror_mode": {
    "name": "ipython",
    "version": 3
   },
   "file_extension": ".py",
   "mimetype": "text/x-python",
   "name": "python",
   "nbconvert_exporter": "python",
   "pygments_lexer": "ipython3",
   "version": "3.9.13"
  }
 },
 "nbformat": 4,
 "nbformat_minor": 5
}
